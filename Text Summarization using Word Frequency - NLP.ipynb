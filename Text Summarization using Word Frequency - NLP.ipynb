{
 "cells": [
  {
   "cell_type": "code",
   "execution_count": 1,
   "metadata": {},
   "outputs": [],
   "source": [
    "## input text article\n",
    "sample_text=\"Maria Sharapova has basically no friends as tennis players on the WTA Tour. The Russian player has no problems in openly speaking about it and in a recent interview she said: 'I don't really hide any feelings too much. I think everyone knows this is my job here. When I'm on the courts or when I'm on the court playing, I'm a competitor and I want to beat every single person whether they're in the locker room or across the net.So I'm not the one to strike up a conversation about the weather and know that in the next few minutes I have to go and try to win a tennis match. I'm a pretty competitive girl. I say my hellos, but I'm not sending any players flowers as well. Uhm, I'm not really friendly or close to many players. I have not a lot of friends away from the courts.' When she said she is not really close to a lot of players, is that something strategic that she is doing? Is it different on the men's tour than the women's tour? 'No, not at all. I think just because you're in the same sport doesn't mean that you have to be friends with everyone just because you're categorized, you're a tennis player, so you're going to get along with tennis players. I think every person has different interests. I have friends that have completely different jobs and interests, and I've met them in very different parts of my life. I think everyone just thinks because we're tennis players we should be the greatest of friends. But ultimately tennis is just a very small part of what we do. There are so many other things that we're interested in, that we do.\""
   ]
  },
  {
   "cell_type": "code",
   "execution_count": null,
   "metadata": {},
   "outputs": [],
   "source": [
    "#article_text=\"Just what is agility in the context of software engineering work? Ivar Jacobson [Jac02a] provides a useful discussion: Agility  has become today’s buzzword when describing a modern software process. Everyone is agile. An agile team is a nimble team able to appropriately respond to changes. Change is what software development is very much about. Changes in the software being built, changes to the team members, changes because of new technology, changes of all kinds that may have an impact on the product they build or the project that creates the product. Support for changes should be built-in everything we do in software, something we embrace because it is the heart and soul of software. An agile team recognizes that software is developed by individuals working in teams and that the skills of these people, their ability to collaborate is at the core for the success of the project.In Jacobson’s view, the pervasiveness of change is the primary driver for agility. Software engineers must be quick on their feet if they are to accommodate the rapid changes that Jacobson describes.  But agility is more than an effective response to change. It also encompasses the philosophy espoused in the manifesto noted at the beginning of this chapter. It encourages team structures and attitudes that make communication (among team members, between technologists and business people, between software engineers and their managers) more facile. It emphasizes rapid delivery of operational software and deemphasizes the importance of intermediate work products (not always a good thing); it adopts the customer as a part of the development team and works to eliminate the “us and them” attitude that continues to pervade many software projects; it recognizes that planning in an uncertain world has its limits and that a project plan must be ﬂ exible.  Agility can be applied to any software process. However, to accomplish this, it is essential that the process be designed in a way that allows the project team to adapt tasks and to streamline them, conduct planning in a way that understands the ﬂ uidity of an agile development approach, eliminate all but the most essential work products and keep them lean, and emphasize an incremental delivery strategy that gets working software to the customer as rapidly as feasible for the product type and operational environment. \""
   ]
  },
  {
   "cell_type": "markdown",
   "metadata": {},
   "source": [
    "## Import Modules"
   ]
  },
  {
   "cell_type": "code",
   "execution_count": 2,
   "metadata": {},
   "outputs": [],
   "source": [
    "import re\n",
    "import nltk"
   ]
  },
  {
   "cell_type": "markdown",
   "metadata": {},
   "source": [
    "## Data Preprocessing"
   ]
  },
  {
   "cell_type": "code",
   "execution_count": 3,
   "metadata": {},
   "outputs": [
    {
     "data": {
      "text/plain": [
       "\"maria sharapova has basically no friends as tennis players on the wta tour. the russian player has no problems in openly speaking about it and in a recent interview she said: 'i don't really hide any feelings too much. i think everyone knows this is my job here. when i'm on the courts or when i'm on the court playing, i'm a competitor and i want to beat every single person whether they're in the locker room or across the net.so i'm not the one to strike up a conversation about the weather and know that in the next few minutes i have to go and try to win a tennis match. i'm a pretty competitive girl. i say my hellos, but i'm not sending any players flowers as well. uhm, i'm not really friendly or close to many players. i have not a lot of friends away from the courts.' when she said she is not really close to a lot of players, is that something strategic that she is doing? is it different on the men's tour than the women's tour? 'no, not at all. i think just because you're in the same sport doesn't mean that you have to be friends with everyone just because you're categorized, you're a tennis player, so you're going to get along with tennis players. i think every person has different interests. i have friends that have completely different jobs and interests, and i've met them in very different parts of my life. i think everyone just thinks because we're tennis players we should be the greatest of friends. but ultimately tennis is just a very small part of what we do. there are so many other things that we're interested in, that we do.\""
      ]
     },
     "execution_count": 3,
     "metadata": {},
     "output_type": "execute_result"
    }
   ],
   "source": [
    "sample_text = sample_text.lower()\n",
    "sample_text"
   ]
  },
  {
   "cell_type": "code",
   "execution_count": 4,
   "metadata": {},
   "outputs": [
    {
     "data": {
      "text/plain": [
       "'maria sharapova has basically no friends as tennis players on the wta tour the russian player has no problems in openly speaking about it and in a recent interview she said i don t really hide any feelings too much i think everyone knows this is my job here when i m on the courts or when i m on the court playing i m a competitor and i want to beat every single person whether they re in the locker room or across the net so i m not the one to strike up a conversation about the weather and know that in the next few minutes i have to go and try to win a tennis match i m a pretty competitive girl i say my hellos but i m not sending any players flowers as well uhm i m not really friendly or close to many players i have not a lot of friends away from the courts when she said she is not really close to a lot of players is that something strategic that she is doing is it different on the men s tour than the women s tour no not at all i think just because you re in the same sport doesn t mean that you have to be friends with everyone just because you re categorized you re a tennis player so you re going to get along with tennis players i think every person has different interests i have friends that have completely different jobs and interests and i ve met them in very different parts of my life i think everyone just thinks because we re tennis players we should be the greatest of friends but ultimately tennis is just a very small part of what we do there are so many other things that we re interested in that we do '"
      ]
     },
     "execution_count": 4,
     "metadata": {},
     "output_type": "execute_result"
    }
   ],
   "source": [
    "# remove spaces, punctuations and numbers\n",
    "tidy_text = re.sub('[^a-zA-Z]', ' ', sample_text)\n",
    "tidy_text = re.sub('\\s+', ' ', tidy_text)\n",
    "tidy_text"
   ]
  },
  {
   "cell_type": "code",
   "execution_count": 5,
   "metadata": {},
   "outputs": [
    {
     "data": {
      "text/plain": [
       "['maria sharapova has basically no friends as tennis players on the wta tour.',\n",
       " \"the russian player has no problems in openly speaking about it and in a recent interview she said: 'i don't really hide any feelings too much.\",\n",
       " 'i think everyone knows this is my job here.',\n",
       " \"when i'm on the courts or when i'm on the court playing, i'm a competitor and i want to beat every single person whether they're in the locker room or across the net.so i'm not the one to strike up a conversation about the weather and know that in the next few minutes i have to go and try to win a tennis match.\",\n",
       " \"i'm a pretty competitive girl.\",\n",
       " \"i say my hellos, but i'm not sending any players flowers as well.\",\n",
       " \"uhm, i'm not really friendly or close to many players.\",\n",
       " \"i have not a lot of friends away from the courts.'\",\n",
       " 'when she said she is not really close to a lot of players, is that something strategic that she is doing?',\n",
       " \"is it different on the men's tour than the women's tour?\",\n",
       " \"'no, not at all.\",\n",
       " \"i think just because you're in the same sport doesn't mean that you have to be friends with everyone just because you're categorized, you're a tennis player, so you're going to get along with tennis players.\",\n",
       " 'i think every person has different interests.',\n",
       " \"i have friends that have completely different jobs and interests, and i've met them in very different parts of my life.\",\n",
       " \"i think everyone just thinks because we're tennis players we should be the greatest of friends.\",\n",
       " 'but ultimately tennis is just a very small part of what we do.',\n",
       " \"there are so many other things that we're interested in, that we do.\"]"
      ]
     },
     "execution_count": 5,
     "metadata": {},
     "output_type": "execute_result"
    }
   ],
   "source": [
    "# split into sentence list\n",
    "sentence_list = nltk.sent_tokenize(sample_text)\n",
    "sentence_list"
   ]
  },
  {
   "cell_type": "code",
   "execution_count": 6,
   "metadata": {},
   "outputs": [],
   "source": [
    "# import nltk\n",
    "# nltk.download('stopwords')"
   ]
  },
  {
   "cell_type": "markdown",
   "metadata": {},
   "source": [
    "## Word Frequencies"
   ]
  },
  {
   "cell_type": "code",
   "execution_count": 7,
   "metadata": {},
   "outputs": [],
   "source": [
    "stopwords = nltk.corpus.stopwords.words('english')\n",
    "\n",
    "word_frequencies = {}\n",
    "for word in nltk.word_tokenize(tidy_text):\n",
    "    if word not in stopwords:\n",
    "        if word not in word_frequencies:\n",
    "            word_frequencies[word] = 1\n",
    "        else:\n",
    "            word_frequencies[word] += 1"
   ]
  },
  {
   "cell_type": "code",
   "execution_count": 8,
   "metadata": {},
   "outputs": [],
   "source": [
    "maximum_frequency = max(word_frequencies.values())\n",
    "\n",
    "for word in word_frequencies:\n",
    "    word_frequencies[word] = word_frequencies[word] / maximum_frequency"
   ]
  },
  {
   "cell_type": "markdown",
   "metadata": {},
   "source": [
    "## Calculate Sentence Scores"
   ]
  },
  {
   "cell_type": "code",
   "execution_count": 9,
   "metadata": {},
   "outputs": [],
   "source": [
    "sentence_scores = {}\n",
    "\n",
    "for sentence in sentence_list:\n",
    "    for word in nltk.word_tokenize(sentence):\n",
    "        if word in word_frequencies and len(sentence.split(' ')) < 30:\n",
    "            if sentence not in sentence_scores:\n",
    "                sentence_scores[sentence] = word_frequencies[word]\n",
    "            else:\n",
    "                sentence_scores[sentence] += word_frequencies[word]"
   ]
  },
  {
   "cell_type": "code",
   "execution_count": 10,
   "metadata": {},
   "outputs": [
    {
     "data": {
      "text/plain": [
       "{'maria': 0.16666666666666666,\n",
       " 'sharapova': 0.16666666666666666,\n",
       " 'basically': 0.16666666666666666,\n",
       " 'friends': 0.8333333333333334,\n",
       " 'tennis': 1.0,\n",
       " 'players': 1.0,\n",
       " 'wta': 0.16666666666666666,\n",
       " 'tour': 0.5,\n",
       " 'russian': 0.16666666666666666,\n",
       " 'player': 0.3333333333333333,\n",
       " 'problems': 0.16666666666666666,\n",
       " 'openly': 0.16666666666666666,\n",
       " 'speaking': 0.16666666666666666,\n",
       " 'recent': 0.16666666666666666,\n",
       " 'interview': 0.16666666666666666,\n",
       " 'said': 0.3333333333333333,\n",
       " 'really': 0.5,\n",
       " 'hide': 0.16666666666666666,\n",
       " 'feelings': 0.16666666666666666,\n",
       " 'much': 0.16666666666666666,\n",
       " 'think': 0.6666666666666666,\n",
       " 'everyone': 0.5,\n",
       " 'knows': 0.16666666666666666,\n",
       " 'job': 0.16666666666666666,\n",
       " 'courts': 0.3333333333333333,\n",
       " 'court': 0.16666666666666666,\n",
       " 'playing': 0.16666666666666666,\n",
       " 'competitor': 0.16666666666666666,\n",
       " 'want': 0.16666666666666666,\n",
       " 'beat': 0.16666666666666666,\n",
       " 'every': 0.3333333333333333,\n",
       " 'single': 0.16666666666666666,\n",
       " 'person': 0.3333333333333333,\n",
       " 'whether': 0.16666666666666666,\n",
       " 'locker': 0.16666666666666666,\n",
       " 'room': 0.16666666666666666,\n",
       " 'across': 0.16666666666666666,\n",
       " 'net': 0.16666666666666666,\n",
       " 'one': 0.16666666666666666,\n",
       " 'strike': 0.16666666666666666,\n",
       " 'conversation': 0.16666666666666666,\n",
       " 'weather': 0.16666666666666666,\n",
       " 'know': 0.16666666666666666,\n",
       " 'next': 0.16666666666666666,\n",
       " 'minutes': 0.16666666666666666,\n",
       " 'go': 0.16666666666666666,\n",
       " 'try': 0.16666666666666666,\n",
       " 'win': 0.16666666666666666,\n",
       " 'match': 0.16666666666666666,\n",
       " 'pretty': 0.16666666666666666,\n",
       " 'competitive': 0.16666666666666666,\n",
       " 'girl': 0.16666666666666666,\n",
       " 'say': 0.16666666666666666,\n",
       " 'hellos': 0.16666666666666666,\n",
       " 'sending': 0.16666666666666666,\n",
       " 'flowers': 0.16666666666666666,\n",
       " 'well': 0.16666666666666666,\n",
       " 'uhm': 0.16666666666666666,\n",
       " 'friendly': 0.16666666666666666,\n",
       " 'close': 0.3333333333333333,\n",
       " 'many': 0.3333333333333333,\n",
       " 'lot': 0.3333333333333333,\n",
       " 'away': 0.16666666666666666,\n",
       " 'something': 0.16666666666666666,\n",
       " 'strategic': 0.16666666666666666,\n",
       " 'different': 0.6666666666666666,\n",
       " 'men': 0.16666666666666666,\n",
       " 'women': 0.16666666666666666,\n",
       " 'sport': 0.16666666666666666,\n",
       " 'mean': 0.16666666666666666,\n",
       " 'categorized': 0.16666666666666666,\n",
       " 'going': 0.16666666666666666,\n",
       " 'get': 0.16666666666666666,\n",
       " 'along': 0.16666666666666666,\n",
       " 'interests': 0.3333333333333333,\n",
       " 'completely': 0.16666666666666666,\n",
       " 'jobs': 0.16666666666666666,\n",
       " 'met': 0.16666666666666666,\n",
       " 'parts': 0.16666666666666666,\n",
       " 'life': 0.16666666666666666,\n",
       " 'thinks': 0.16666666666666666,\n",
       " 'greatest': 0.16666666666666666,\n",
       " 'ultimately': 0.16666666666666666,\n",
       " 'small': 0.16666666666666666,\n",
       " 'part': 0.16666666666666666,\n",
       " 'things': 0.16666666666666666,\n",
       " 'interested': 0.16666666666666666}"
      ]
     },
     "execution_count": 10,
     "metadata": {},
     "output_type": "execute_result"
    }
   ],
   "source": [
    "word_frequencies"
   ]
  },
  {
   "cell_type": "code",
   "execution_count": 11,
   "metadata": {},
   "outputs": [
    {
     "data": {
      "text/plain": [
       "{'maria sharapova has basically no friends as tennis players on the wta tour.': 4.0,\n",
       " \"the russian player has no problems in openly speaking about it and in a recent interview she said: 'i don't really hide any feelings too much.\": 2.666666666666666,\n",
       " 'i think everyone knows this is my job here.': 1.5,\n",
       " \"i'm a pretty competitive girl.\": 0.5,\n",
       " \"i say my hellos, but i'm not sending any players flowers as well.\": 1.8333333333333335,\n",
       " \"uhm, i'm not really friendly or close to many players.\": 2.5,\n",
       " \"i have not a lot of friends away from the courts.'\": 1.6666666666666667,\n",
       " 'when she said she is not really close to a lot of players, is that something strategic that she is doing?': 2.833333333333333,\n",
       " \"is it different on the men's tour than the women's tour?\": 2.0,\n",
       " 'i think every person has different interests.': 2.3333333333333335,\n",
       " \"i have friends that have completely different jobs and interests, and i've met them in very different parts of my life.\": 3.3333333333333326,\n",
       " \"i think everyone just thinks because we're tennis players we should be the greatest of friends.\": 4.333333333333333,\n",
       " 'but ultimately tennis is just a very small part of what we do.': 1.5000000000000002,\n",
       " \"there are so many other things that we're interested in, that we do.\": 0.6666666666666666}"
      ]
     },
     "execution_count": 11,
     "metadata": {},
     "output_type": "execute_result"
    }
   ],
   "source": [
    "sentence_scores"
   ]
  },
  {
   "cell_type": "markdown",
   "metadata": {},
   "source": [
    "## Text Summarization"
   ]
  },
  {
   "cell_type": "code",
   "execution_count": 12,
   "metadata": {},
   "outputs": [
    {
     "name": "stdout",
     "output_type": "stream",
     "text": [
      "i think everyone just thinks because we're tennis players we should be the greatest of friends. maria sharapova has basically no friends as tennis players on the wta tour. i have friends that have completely different jobs and interests, and i've met them in very different parts of my life. when she said she is not really close to a lot of players, is that something strategic that she is doing? the russian player has no problems in openly speaking about it and in a recent interview she said: 'i don't really hide any feelings too much.\n"
     ]
    }
   ],
   "source": [
    "# get top 5 sentences\n",
    "import heapq\n",
    "summary = heapq.nlargest(5, sentence_scores, key=sentence_scores.get)\n",
    "\n",
    "print(\" \".join(summary))"
   ]
  }
 ],
 "metadata": {
  "kernelspec": {
   "display_name": "Python 3 (ipykernel)",
   "language": "python",
   "name": "python3"
  },
  "language_info": {
   "codemirror_mode": {
    "name": "ipython",
    "version": 3
   },
   "file_extension": ".py",
   "mimetype": "text/x-python",
   "name": "python",
   "nbconvert_exporter": "python",
   "pygments_lexer": "ipython3",
   "version": "3.9.15"
  }
 },
 "nbformat": 4,
 "nbformat_minor": 4
}
